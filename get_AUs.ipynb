{
 "cells": [
  {
   "cell_type": "code",
   "execution_count": 6,
   "metadata": {},
   "outputs": [],
   "source": [
    "import os\n",
    "import pandas as pd\n",
    "from feat import Detector"
   ]
  },
  {
   "cell_type": "code",
   "execution_count": 7,
   "metadata": {},
   "outputs": [],
   "source": [
    "def analyse_videos( input_file, \n",
    "                    target_file, \n",
    "                    skip_frames=1, \n",
    "                    # batch_size=900, \n",
    "                    num_workers=16, \n",
    "                    pin_memory=False, \n",
    "                    n_jobs = 12,\n",
    "                    face_model = \"retinaface\",\n",
    "                    landmark_model = \"mobilefacenet\",\n",
    "                    au_model = 'xgb',\n",
    "                    emotion_model = \"resmasknet\",\n",
    "                    facepose_model = \"img2pose\",\n",
    "                    # device = \"cpu\"\n",
    "                ):\n",
    "    #New detector\n",
    "    detector = Detector(\n",
    "        face_model = face_model,\n",
    "        landmark_model = landmark_model,\n",
    "        au_model = au_model,\n",
    "        emotion_model = emotion_model,\n",
    "        facepose_model = facepose_model,\n",
    "        # device = device\n",
    "    )\n",
    "\n",
    "    video_prediction = detector.detect_video(input_file,\n",
    "                                            skip_frames = skip_frames,\n",
    "                                            # batch_size = batch_size,\n",
    "                                            num_workers = num_workers,\n",
    "                                            pin_memory = pin_memory,\n",
    "                                            n_jobs = n_jobs)\n",
    "\n",
    "    video_prediction.to_csv(target_file)"
   ]
  },
  {
   "cell_type": "code",
   "execution_count": 8,
   "metadata": {},
   "outputs": [],
   "source": [
    "# def get_aus(df, condition):\n",
    "#     counter = 0\n",
    "#     for i in range(len(df)):\n",
    "#         filepath = df.iloc[i]['VideoPath']\n",
    "#         disp_dyad = df.iloc[i]['DisplayedDyad']\n",
    "#         aus_filepath = f'./data/aus_pure/vv/{condition}/{disp_dyad}_{filepath.split(os.sep)[-1][:-4]}_aus.csv'\n",
    "#         print(f'{counter}. ', filepath)\n",
    "#         analyse_videos(filepath, aus_filepath)\n",
    "#         counter += 1"
   ]
  },
  {
   "cell_type": "code",
   "execution_count": 9,
   "metadata": {},
   "outputs": [],
   "source": [
    "# df = pd.read_csv('./stim/all_trials_dispDyad.csv')\n",
    "\n",
    "# df_vv = df[df['Modality'] == 'vv']\n",
    "# df_vv_trues = df_vv[df_vv['Condition'] == 'TRUE']\n",
    "# df_vv_trues = df_vv_trues.reset_index()\n",
    "# df_vv_fakes = df_vv[df_vv['Condition'] != 'TRUE']\n",
    "# df_vv_fakes = df_vv_fakes.reset_index()"
   ]
  },
  {
   "cell_type": "code",
   "execution_count": 10,
   "metadata": {},
   "outputs": [
    {
     "name": "stderr",
     "output_type": "stream",
     "text": [
      " 21%|██▏       | 6/28 [00:20<00:51,  2.32s/it]WARNING:root:Warning: NO FACE is detected\n",
      " 25%|██▌       | 7/28 [00:21<00:40,  1.94s/it]WARNING:root:Warning: NO FACE is detected\n",
      " 29%|██▊       | 8/28 [00:22<00:34,  1.71s/it]WARNING:root:Warning: NO FACE is detected\n",
      " 32%|███▏      | 9/28 [00:23<00:29,  1.58s/it]WARNING:root:Warning: NO FACE is detected\n",
      " 36%|███▌      | 10/28 [00:24<00:24,  1.36s/it]WARNING:root:Warning: NO FACE is detected\n",
      " 39%|███▉      | 11/28 [00:25<00:19,  1.18s/it]WARNING:root:Warning: NO FACE is detected\n",
      " 43%|████▎     | 12/28 [00:26<00:16,  1.04s/it]WARNING:root:Warning: NO FACE is detected\n",
      " 46%|████▋     | 13/28 [00:27<00:14,  1.05it/s]WARNING:root:Warning: NO FACE is detected\n",
      " 50%|█████     | 14/28 [00:27<00:12,  1.12it/s]WARNING:root:Warning: NO FACE is detected\n",
      " 54%|█████▎    | 15/28 [00:28<00:11,  1.17it/s]WARNING:root:Warning: NO FACE is detected\n",
      " 57%|█████▋    | 16/28 [00:29<00:09,  1.22it/s]WARNING:root:Warning: NO FACE is detected\n",
      " 61%|██████    | 17/28 [00:30<00:08,  1.24it/s]WARNING:root:Warning: NO FACE is detected\n",
      " 64%|██████▍   | 18/28 [00:30<00:07,  1.28it/s]WARNING:root:Warning: NO FACE is detected\n",
      " 68%|██████▊   | 19/28 [00:31<00:06,  1.30it/s]WARNING:root:Warning: NO FACE is detected\n",
      " 71%|███████▏  | 20/28 [00:32<00:06,  1.31it/s]WARNING:root:Warning: NO FACE is detected\n",
      " 75%|███████▌  | 21/28 [00:33<00:05,  1.32it/s]WARNING:root:Warning: NO FACE is detected\n",
      " 79%|███████▊  | 22/28 [00:33<00:04,  1.31it/s]WARNING:root:Warning: NO FACE is detected\n",
      " 82%|████████▏ | 23/28 [00:34<00:03,  1.32it/s]WARNING:root:Warning: NO FACE is detected\n",
      " 86%|████████▌ | 24/28 [00:35<00:03,  1.30it/s]WARNING:root:Warning: NO FACE is detected\n",
      "100%|██████████| 28/28 [00:41<00:00,  1.48s/it]\n",
      "g:\\Utilisateurs\\rudradeep.guha\\AppData\\Local\\miniforge3\\envs\\speed_dating\\lib\\site-packages\\feat\\detector.py:883: FutureWarning: The behavior of DataFrame concatenation with empty or all-NA entries is deprecated. In a future version, this will no longer exclude empty or all-NA columns when determining the result dtypes. To retain the old behavior, exclude the relevant entries before the concat operation.\n",
      "  batch_output = pd.concat(batch_output)\n"
     ]
    }
   ],
   "source": [
    "analyse_videos('./stim/processed_extracts/fake/8/4_5_va.mov', './data/aus_pure/va/fake/8_4_5_va_aus.csv')"
   ]
  },
  {
   "cell_type": "code",
   "execution_count": 11,
   "metadata": {},
   "outputs": [],
   "source": [
    "analyse_videos('./stim/processed_extracts/fake/9/1_3_va.mov', './data/aus_pure/va/fake/9_1_3_va_aus.csv')"
   ]
  }
 ],
 "metadata": {
  "kernelspec": {
   "display_name": "speedDating",
   "language": "python",
   "name": "python3"
  },
  "language_info": {
   "codemirror_mode": {
    "name": "ipython",
    "version": 3
   },
   "file_extension": ".py",
   "mimetype": "text/x-python",
   "name": "python",
   "nbconvert_exporter": "python",
   "pygments_lexer": "ipython3",
   "version": "3.10.13"
  },
  "orig_nbformat": 4
 },
 "nbformat": 4,
 "nbformat_minor": 2
}
