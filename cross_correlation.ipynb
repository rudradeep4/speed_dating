{
 "cells": [
  {
   "cell_type": "code",
   "execution_count": null,
   "metadata": {},
   "outputs": [],
   "source": [
    "import pandas as pd\n",
    "import matplotlib.pyplot as plt\n",
    "from matplotlib.patches import Rectangle\n",
    "from scipy import stats\n",
    "import seaborn as sns\n",
    "from altair import *\n",
    "import itertools\n",
    "from pipeline import Pipeline\n",
    "\n",
    "# sns.set_theme(style='white', palette='Set2')\n",
    "sns.set_theme(style=\"white\", rc={\"axes.facecolor\": (0, 0, 0, 0)})\n",
    "plt.rcParams['xtick.bottom'] = False\n",
    "plt.rcParams['ytick.left'] = True"
   ]
  },
  {
   "cell_type": "markdown",
   "metadata": {},
   "source": [
    "#### A -> V"
   ]
  },
  {
   "cell_type": "code",
   "execution_count": null,
   "metadata": {},
   "outputs": [],
   "source": [
    "va_pipeline = Pipeline(\n",
    "                        trf_direction=1, \n",
    "                        trf_min_lag=0, \n",
    "                        trf_max_lag=3,\n",
    "                        regularization=1,\n",
    "                        modality='va',\n",
    "                        audio_type='auditory_nerve',\n",
    "                        similarity_measure='r2'\n",
    "                    )"
   ]
  },
  {
   "cell_type": "code",
   "execution_count": null,
   "metadata": {},
   "outputs": [],
   "source": [
    "df = va_pipeline.make_main_df()\n",
    "df_crossCorr_va = va_pipeline.make_crosscorr_df(df)"
   ]
  },
  {
   "cell_type": "code",
   "execution_count": null,
   "metadata": {},
   "outputs": [],
   "source": [
    "g = sns.FacetGrid(df_crossCorr_va, row=\"listener_au\", hue=\"condition\", aspect=10, height=0.5, palette='Set2', legend_out=True)\n",
    "g.map(sns.kdeplot, \"peak_lag\", bw_adjust=.5, clip_on=False, fill=True, lw=1)\n",
    "g.map(sns.kdeplot, \"peak_lag\", bw_adjust=.5, clip_on=False, lw=1)\n",
    "g.refline(x=0, lw=0.5, alpha=1, linestyle=\"--\", clip_on=False)\n",
    "g.refline(y=0, lw=1, alpha=1, linestyle=\"-\", clip_on=False)\n",
    "for i, ax in enumerate(g.axes.flat):\n",
    "    ax.text(0, .2, va_pipeline.aus[i], fontsize=8, fontweight=\"bold\", ha=\"left\", va=\"center\", color=ax.lines[-1].get_color(), transform=ax.transAxes)\n",
    "g.figure.subplots_adjust(hspace=-.5)\n",
    "g.set_titles(\"\")\n",
    "g.set(yticks=[], ylabel=\"\")\n",
    "# g.set(xticks=[], xlabel=\"\")\n",
    "g.despine(left=True, bottom=True)\n",
    "g.set_axis_labels('Lag [s]', '')"
   ]
  },
  {
   "cell_type": "markdown",
   "metadata": {},
   "source": [
    "#### V -> V"
   ]
  },
  {
   "cell_type": "code",
   "execution_count": null,
   "metadata": {},
   "outputs": [],
   "source": [
    "vv_pipeline = Pipeline(\n",
    "                        trf_direction=1, \n",
    "                        trf_min_lag=0, \n",
    "                        trf_max_lag=3,\n",
    "                        regularization=1,\n",
    "                        modality='vv',\n",
    "                        audio_type='auditory_nerve',\n",
    "                        similarity_measure='r2'\n",
    "                    )"
   ]
  },
  {
   "cell_type": "code",
   "execution_count": null,
   "metadata": {},
   "outputs": [],
   "source": [
    "df_vv = vv_pipeline.make_main_df()\n",
    "df_crossCorr_vv = vv_pipeline.make_crosscorr_df(df_vv)\n",
    "df_cc_true = df_crossCorr_vv[df_crossCorr_vv['condition'] == 'true']\n",
    "df_cc_fake = df_crossCorr_vv[df_crossCorr_vv['condition'] != 'true']"
   ]
  },
  {
   "cell_type": "code",
   "execution_count": null,
   "metadata": {},
   "outputs": [],
   "source": [
    "sns.heatmap(df_cc_true.pivot_table(index='speaker_au', columns='listener_au', values='peak_lag'), cmap='Reds', vmin=-0.5, vmax=0.5, square=True)\n",
    "plt.ylabel('Speaker AU')\n",
    "plt.xlabel('Listener AU')\n",
    "plt.yticks(rotation=0)\n",
    "plt.xticks(rotation=90)"
   ]
  },
  {
   "cell_type": "code",
   "execution_count": null,
   "metadata": {},
   "outputs": [],
   "source": [
    "sns.heatmap(df_cc_fake.pivot_table(index='speaker_au', columns='listener_au', values='peak_lag'), cmap='Reds', vmin=-0.5, vmax=0.5, square=True)\n",
    "plt.ylabel('Speaker AU')\n",
    "plt.xlabel('Listener AU')\n",
    "plt.yticks(rotation=0)\n",
    "plt.xticks(rotation=90)"
   ]
  },
  {
   "cell_type": "code",
   "execution_count": null,
   "metadata": {},
   "outputs": [],
   "source": [
    "au1s, au2s, t_statistics, p_vals = [], [], [], []\n",
    "for idx, item in enumerate(itertools.product(vv_pipeline.aus, repeat=2)):\n",
    "    true_lags = df_cc_true[(df_cc_true['speaker_au']==item[0]) & (df_cc_true['listener_au']==item[1])]['peak_lag'].to_numpy()\n",
    "    fake_lags = df_cc_fake[(df_cc_fake['speaker_au']==item[0]) & (df_cc_fake['listener_au']==item[1])]['peak_lag'].to_numpy()\n",
    "    res = stats.ttest_ind(true_lags, fake_lags)\n",
    "    au1s.append(item[0])\n",
    "    au2s.append(item[1])\n",
    "    t_statistics.append(res.statistic)\n",
    "    p_vals.append(res.pvalue)\n",
    "\n",
    "df_ttest = pd.DataFrame({\n",
    "                            'speaker_au': au1s,\n",
    "                            'listener_au': au2s,\n",
    "                            't': t_statistics,\n",
    "                            'p': p_vals\n",
    "                        })\n",
    "\n",
    "heatmap_data = df_ttest.pivot_table(index='speaker_au', columns='listener_au', values='t')\n",
    "t_heatmap = plt.figure()\n",
    "ax = sns.heatmap(heatmap_data, cmap='crest', vmin=-1, vmax=1, square=True)\n",
    "for index, row in df_ttest[df_ttest['p'] < 0.05].iterrows():\n",
    "    name_pos = heatmap_data.index.get_loc(row['speaker_au'])\n",
    "    id_pos = heatmap_data.columns.get_loc(row['listener_au'])\n",
    "    ax.add_patch(Rectangle((id_pos, name_pos), 1, 1, ec='r', fc='none', lw=1, linestyle='--'))"
   ]
  }
 ],
 "metadata": {
  "kernelspec": {
   "display_name": "speedDating",
   "language": "python",
   "name": "python3"
  },
  "language_info": {
   "codemirror_mode": {
    "name": "ipython",
    "version": 3
   },
   "file_extension": ".py",
   "mimetype": "text/x-python",
   "name": "python",
   "nbconvert_exporter": "python",
   "pygments_lexer": "ipython3",
   "version": "3.11.4"
  }
 },
 "nbformat": 4,
 "nbformat_minor": 2
}
