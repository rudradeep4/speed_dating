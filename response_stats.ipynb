{
 "cells": [
  {
   "cell_type": "code",
   "execution_count": null,
   "metadata": {},
   "outputs": [],
   "source": [
    "import pandas as pd\n",
    "import glob\n",
    "import os\n",
    "import matplotlib.pyplot as plt\n",
    "import seaborn as sns\n",
    "import numpy as np\n",
    "from scipy import stats"
   ]
  },
  {
   "cell_type": "markdown",
   "metadata": {},
   "source": [
    "#### Create DataFrame"
   ]
  },
  {
   "cell_type": "code",
   "execution_count": null,
   "metadata": {},
   "outputs": [],
   "source": [
    "lst_df = []\n",
    "\n",
    "for dir in (glob.glob('./data/responses/*')):\n",
    "    dir_len = len(os.listdir(dir))\n",
    "    if dir_len != 0:\n",
    "        files = glob.glob(dir+'/*.csv')\n",
    "        for file in files:\n",
    "            temp_df = pd.read_csv(file)\n",
    "            lst_df.append(temp_df)\n",
    "\n",
    "df = pd.concat(lst_df)\n",
    "df = df.reset_index()"
   ]
  },
  {
   "cell_type": "code",
   "execution_count": null,
   "metadata": {},
   "outputs": [],
   "source": [
    "df['Accuracy'] = (df['CorrectResp']==df['Resp']).astype(int)\n",
    "df['DisplayedDyad'] = df['AudioPath'].str.split('/').str[4]\n",
    "df"
   ]
  },
  {
   "cell_type": "markdown",
   "metadata": {},
   "source": [
    "#### Calculate SDT Statistics"
   ]
  },
  {
   "cell_type": "code",
   "execution_count": null,
   "metadata": {},
   "outputs": [],
   "source": [
    "def get_stats(df):\n",
    "    hits = len(df[(df['Condition'] == 'TRUE') & (df['Resp'] == 'g')])\n",
    "    misses = len(df[(df['Condition'] == 'TRUE') & (df['Resp'] == 'h')])\n",
    "    correct_rejections = len(df[(df['Condition'] != 'TRUE') & (df['Resp'] == 'h')])\n",
    "    false_alarms = len(df[((df['Condition'] != 'TRUE') & (df['Resp'] == 'g'))])\n",
    "\n",
    "    # Hit Rate, False Alarm Rate & d'\n",
    "    hit_rate = hits / (hits+misses)\n",
    "    fa_rate = false_alarms / (false_alarms+correct_rejections)\n",
    "    print('Hit rate =', hit_rate)\n",
    "    print('False Alarm rate =', fa_rate)\n",
    "    print('***********************************************')\n",
    "    z_hitRate = stats.norm.ppf(hit_rate)\n",
    "    z_falseAlarmRate = stats.norm.ppf(fa_rate)\n",
    "    print('d_prime =', z_hitRate - z_falseAlarmRate)\n",
    "\n",
    "    # Unbiased Hit Rate\n",
    "    num_target_stim = df['Condition'].value_counts()['TRUE']                        # number of TRUE trials\n",
    "    num_uses_response = df['Resp'].value_counts()['g']                              # number of times participants responded TRUE\n",
    "    unbiased_hit_rate = (hits/num_target_stim) * (hits)/(num_uses_response)\n",
    "    print('Unbiased Hit Rate =', unbiased_hit_rate)"
   ]
  },
  {
   "cell_type": "code",
   "execution_count": null,
   "metadata": {},
   "outputs": [],
   "source": [
    "get_stats(df=df)"
   ]
  },
  {
   "cell_type": "markdown",
   "metadata": {},
   "source": [
    "#### Calculate Accuracy per Dyad"
   ]
  },
  {
   "cell_type": "code",
   "execution_count": null,
   "metadata": {},
   "outputs": [],
   "source": [
    "def calculate_accuracy(df):\n",
    "    hits = len(df[(df['Condition'] == 'TRUE') & (df['Resp'] == 'g')])\n",
    "    correct_rejections = len(df[(df['Condition'] != 'TRUE') & (df['Resp'] == 'h')])\n",
    "\n",
    "    return (hits+correct_rejections)/len(df)"
   ]
  },
  {
   "cell_type": "code",
   "execution_count": null,
   "metadata": {},
   "outputs": [],
   "source": [
    "df_dyad = df.groupby(df['DisplayedDyad']).apply(lambda x: calculate_accuracy(x)).reset_index(name='Accuracy')\n",
    "trials = df.groupby(df['DisplayedDyad']).apply(lambda x: len(x)).reset_index(name='NumTrials')['NumTrials']\n",
    "df_dyad['NumTrials'] = trials\n",
    "stims = df.groupby(df['DisplayedDyad']).apply(lambda x: x['VideoPath'].to_numpy()).reset_index(name='Stims')['Stims']\n",
    "df_dyad['Stims'] = stims\n",
    "\n",
    "df_dyad"
   ]
  },
  {
   "cell_type": "code",
   "execution_count": null,
   "metadata": {},
   "outputs": [],
   "source": [
    "sns.histplot(data=df_dyad, x='Accuracy', kde=True)"
   ]
  },
  {
   "cell_type": "markdown",
   "metadata": {},
   "source": [
    "#### Calculate SDT stats after excluding Dyads"
   ]
  },
  {
   "cell_type": "code",
   "execution_count": null,
   "metadata": {},
   "outputs": [],
   "source": [
    "df_mod = df[\n",
    "            # (df['DisplayedDyad'] != '10') & \n",
    "            # (df['DisplayedDyad'] != '19') & \n",
    "            (df['DisplayedDyad'] != '29') & \n",
    "            # (df['DisplayedDyad'] != '33') &\n",
    "            # (df['DisplayedDyad'] != '42')\n",
    "            (df['DisplayedDyad'] != '51')\n",
    "            ]\n",
    "\n",
    "get_stats(df=df_mod)"
   ]
  }
 ],
 "metadata": {
  "kernelspec": {
   "display_name": "psychopy",
   "language": "python",
   "name": "python3"
  },
  "language_info": {
   "codemirror_mode": {
    "name": "ipython",
    "version": 3
   },
   "file_extension": ".py",
   "mimetype": "text/x-python",
   "name": "python",
   "nbconvert_exporter": "python",
   "pygments_lexer": "ipython3",
   "version": "3.10.8"
  },
  "orig_nbformat": 4
 },
 "nbformat": 4,
 "nbformat_minor": 2
}
