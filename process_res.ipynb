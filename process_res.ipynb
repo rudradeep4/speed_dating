{
 "cells": [
  {
   "cell_type": "code",
   "execution_count": 1,
   "metadata": {},
   "outputs": [],
   "source": [
    "import pandas as pd\n",
    "import glob"
   ]
  },
  {
   "cell_type": "code",
   "execution_count": 2,
   "metadata": {},
   "outputs": [],
   "source": [
    "def get_scores(subj):\n",
    "    files = glob.glob(f'./data/responses/{subj}/*.csv')\n",
    "    df_arr = []\n",
    "    for file in files:\n",
    "        df_temp = pd.read_csv(file)\n",
    "        df_arr.append(df_temp)\n",
    "\n",
    "    df_all = pd.concat(df_arr)\n",
    "    df_all['Accuracy'] = (df_all['CorrectResp']==df_all['Resp']).astype(int)\n",
    "\n",
    "    raw_score = df_all['Accuracy'].sum()\n",
    "\n",
    "    df_1 = df_all[df_all['Block'] == 'vva']  \n",
    "    vva_score = df_1['Accuracy'].sum()\n",
    "\n",
    "    df_2 = df_all[df_all['Block'] == 'vv']  \n",
    "    vv_score = df_2['Accuracy'].sum()\n",
    "\n",
    "    df_3 = df_all[df_all['Block'] == 'va']  \n",
    "    va_score = df_3['Accuracy'].sum()\n",
    "\n",
    "    return raw_score, vva_score, vv_score, va_score"
   ]
  },
  {
   "cell_type": "code",
   "execution_count": 4,
   "metadata": {},
   "outputs": [
    {
     "name": "stdout",
     "output_type": "stream",
     "text": [
      "121\n",
      "43\n",
      "30\n",
      "48\n"
     ]
    }
   ],
   "source": [
    "raw_score, vva_score, vv_score, va_score = get_scores(1)\n",
    "print(raw_score)\n",
    "print(vva_score)\n",
    "print(vv_score)\n",
    "print(va_score)"
   ]
  },
  {
   "cell_type": "code",
   "execution_count": 3,
   "metadata": {},
   "outputs": [
    {
     "name": "stdout",
     "output_type": "stream",
     "text": [
      "132\n",
      "48\n",
      "40\n",
      "44\n"
     ]
    }
   ],
   "source": [
    "raw_score, vva_score, vv_score, va_score = get_scores(2)\n",
    "print(raw_score)\n",
    "print(vva_score)\n",
    "print(vv_score)\n",
    "print(va_score)"
   ]
  },
  {
   "cell_type": "code",
   "execution_count": null,
   "metadata": {},
   "outputs": [],
   "source": []
  }
 ],
 "metadata": {
  "kernelspec": {
   "display_name": "psychopy",
   "language": "python",
   "name": "python3"
  },
  "language_info": {
   "codemirror_mode": {
    "name": "ipython",
    "version": 3
   },
   "file_extension": ".py",
   "mimetype": "text/x-python",
   "name": "python",
   "nbconvert_exporter": "python",
   "pygments_lexer": "ipython3",
   "version": "3.8.16"
  },
  "orig_nbformat": 4
 },
 "nbformat": 4,
 "nbformat_minor": 2
}
